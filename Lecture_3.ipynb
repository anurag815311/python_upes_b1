{
 "cells": [
  {
   "cell_type": "code",
   "execution_count": 2,
   "id": "27e59440",
   "metadata": {},
   "outputs": [
    {
     "name": "stdout",
     "output_type": "stream",
     "text": [
      "1404607201584\n",
      "1404607201584\n",
      "1404607201616\n"
     ]
    }
   ],
   "source": [
    "a=3\n",
    "b=3\n",
    "c=3\n",
    "c=c+1\n",
    "\n",
    "print(id(a))\n",
    "print(id(b))\n",
    "print(id(c))"
   ]
  },
  {
   "cell_type": "markdown",
   "id": "a3d6bf1a",
   "metadata": {},
   "source": [
    "### why the id changes ? or remain same from a and b?\n",
    "All the variable are repsresenting by the same id when allocating to them.Then what is the purpose ?\n",
    "Python fix the variable allocating to the map. and the variable is immutable , so modification cannot be done when it map in the memory, therfore in a and b the value remain stagnant. wherease as in C the value changed.\n"
   ]
  },
  {
   "cell_type": "markdown",
   "id": "089d099c",
   "metadata": {},
   "source": [
    "### NOTE\n",
    "\n",
    "Compute the range of the variable having same value. and kis range par jakar value change ho jaa rhi hai\n",
    "\n"
   ]
  },
  {
   "cell_type": "code",
   "execution_count": 3,
   "id": "a5d05438",
   "metadata": {},
   "outputs": [
    {
     "name": "stdout",
     "output_type": "stream",
     "text": [
      "large number of outputs\n"
     ]
    }
   ],
   "source": [
    "d=10\n",
    "#for i in range(1,200000):\n",
    "    #print(id(d))\n",
    "print(\"large number of outputs\")\n"
   ]
  },
  {
   "cell_type": "markdown",
   "id": "b94d1536",
   "metadata": {},
   "source": [
    "## LIST "
   ]
  },
  {
   "cell_type": "code",
   "execution_count": 4,
   "id": "ff3e8960",
   "metadata": {},
   "outputs": [],
   "source": [
    "# List are mutable and can be change, whereas in variable the memory is fixed."
   ]
  },
  {
   "cell_type": "code",
   "execution_count": 5,
   "id": "c3027414",
   "metadata": {},
   "outputs": [
    {
     "name": "stdout",
     "output_type": "stream",
     "text": [
      "1 2 3 4 5 [1, 2, 3, 4, 5]\n",
      "1404687866688\n",
      "<class 'list'>\n"
     ]
    }
   ],
   "source": [
    "# storing the interger value\n",
    "list_of_integer=[1,2,3,4,5]\n",
    "for i in list_of_integer:\n",
    "    print(i, end=\" \")\n",
    "print(list_of_integer)\n",
    "print(id(list_of_integer))\n",
    "print(type(list_of_integer))"
   ]
  },
  {
   "cell_type": "code",
   "execution_count": 6,
   "id": "b278fcb3",
   "metadata": {},
   "outputs": [
    {
     "name": "stdout",
     "output_type": "stream",
     "text": [
      "5\n"
     ]
    }
   ],
   "source": [
    "# length of the list\n",
    "print(len(list_of_integer))"
   ]
  },
  {
   "cell_type": "code",
   "execution_count": 7,
   "id": "616c670f",
   "metadata": {},
   "outputs": [
    {
     "name": "stdout",
     "output_type": "stream",
     "text": [
      "1\n"
     ]
    }
   ],
   "source": [
    "# accessing the value from the list\n",
    "print(list_of_integer[0])"
   ]
  },
  {
   "cell_type": "code",
   "execution_count": 8,
   "id": "ad648e36",
   "metadata": {},
   "outputs": [
    {
     "name": "stdout",
     "output_type": "stream",
     "text": [
      "5\n"
     ]
    }
   ],
   "source": [
    "print(list_of_integer[-1])  # agar last value to fetch karna hai toh"
   ]
  },
  {
   "cell_type": "markdown",
   "id": "76642ea7",
   "metadata": {},
   "source": [
    "# List function/method"
   ]
  },
  {
   "cell_type": "code",
   "execution_count": 9,
   "id": "98971ee8",
   "metadata": {},
   "outputs": [
    {
     "data": {
      "text/plain": [
       "[1, 2, 3, 4, 5, 10]"
      ]
     },
     "execution_count": 9,
     "metadata": {},
     "output_type": "execute_result"
    }
   ],
   "source": [
    "# append\n",
    "list_of_integer.append(10)\n",
    "list_of_integer"
   ]
  },
  {
   "cell_type": "code",
   "execution_count": 10,
   "id": "b54a2ebc",
   "metadata": {},
   "outputs": [],
   "source": [
    "# remove\n",
    "list_of_integer.remove(10)"
   ]
  },
  {
   "cell_type": "code",
   "execution_count": 11,
   "id": "38696a59",
   "metadata": {},
   "outputs": [
    {
     "ename": "ValueError",
     "evalue": "list.remove(x): x not in list",
     "output_type": "error",
     "traceback": [
      "\u001b[1;31m---------------------------------------------------------------------------\u001b[0m",
      "\u001b[1;31mValueError\u001b[0m                                Traceback (most recent call last)",
      "Cell \u001b[1;32mIn[11], line 1\u001b[0m\n\u001b[1;32m----> 1\u001b[0m \u001b[43mlist_of_integer\u001b[49m\u001b[38;5;241;43m.\u001b[39;49m\u001b[43mremove\u001b[49m\u001b[43m(\u001b[49m\u001b[38;5;241;43m10\u001b[39;49m\u001b[43m)\u001b[49m\n",
      "\u001b[1;31mValueError\u001b[0m: list.remove(x): x not in list"
     ]
    }
   ],
   "source": [
    "list_of_integer.remove(10)"
   ]
  },
  {
   "cell_type": "code",
   "execution_count": null,
   "id": "d42b3a98",
   "metadata": {},
   "outputs": [],
   "source": [
    "list_of_integer"
   ]
  },
  {
   "cell_type": "code",
   "execution_count": 13,
   "id": "b9dd9d09",
   "metadata": {},
   "outputs": [
    {
     "name": "stdout",
     "output_type": "stream",
     "text": [
      "[[40, 50, 60], [60, 70, 80]]\n"
     ]
    }
   ],
   "source": [
    "# storing list in list\n",
    "# matrix store\n",
    "a=[40,50,60]\n",
    "b=[60,70,80]\n",
    "c=[a,b]\n",
    "print(c)"
   ]
  },
  {
   "cell_type": "code",
   "execution_count": 14,
   "id": "6fd8cdde",
   "metadata": {},
   "outputs": [
    {
     "data": {
      "text/plain": [
       "50"
      ]
     },
     "execution_count": 14,
     "metadata": {},
     "output_type": "execute_result"
    }
   ],
   "source": [
    "#accessing the matrix\n",
    "c[0][1]"
   ]
  },
  {
   "cell_type": "code",
   "execution_count": 15,
   "id": "594ae285",
   "metadata": {},
   "outputs": [
    {
     "data": {
      "text/plain": [
       "70"
      ]
     },
     "execution_count": 15,
     "metadata": {},
     "output_type": "execute_result"
    }
   ],
   "source": [
    "c[1][1]  # [row][column]"
   ]
  },
  {
   "cell_type": "code",
   "execution_count": 16,
   "id": "a121c857",
   "metadata": {},
   "outputs": [
    {
     "data": {
      "text/plain": [
       "[40, 50, 60, 40, 50, 60]"
      ]
     },
     "execution_count": 16,
     "metadata": {},
     "output_type": "execute_result"
    }
   ],
   "source": [
    "a*2   # python is general purpose language"
   ]
  },
  {
   "cell_type": "markdown",
   "id": "aadbd40f",
   "metadata": {},
   "source": [
    "## TUPLE BASIC"
   ]
  },
  {
   "cell_type": "code",
   "execution_count": 17,
   "id": "be3b75e2",
   "metadata": {},
   "outputs": [
    {
     "name": "stdout",
     "output_type": "stream",
     "text": [
      "(10, 11)\n"
     ]
    }
   ],
   "source": [
    "# storing the variable in the list that cannot be changes. \n",
    "a=(10,11) # tuple immutable hain.modification nhi honge\n",
    "print(a) "
   ]
  },
  {
   "cell_type": "code",
   "execution_count": 18,
   "id": "732114cc",
   "metadata": {},
   "outputs": [
    {
     "ename": "AttributeError",
     "evalue": "'tuple' object has no attribute 'append'",
     "output_type": "error",
     "traceback": [
      "\u001b[1;31m---------------------------------------------------------------------------\u001b[0m",
      "\u001b[1;31mAttributeError\u001b[0m                            Traceback (most recent call last)",
      "Cell \u001b[1;32mIn[18], line 2\u001b[0m\n\u001b[0;32m      1\u001b[0m \u001b[38;5;66;03m# append will not work in tuple, as tuple already is immutable\u001b[39;00m\n\u001b[1;32m----> 2\u001b[0m \u001b[43ma\u001b[49m\u001b[38;5;241;43m.\u001b[39;49m\u001b[43mappend\u001b[49m(\u001b[38;5;241m100\u001b[39m)\n",
      "\u001b[1;31mAttributeError\u001b[0m: 'tuple' object has no attribute 'append'"
     ]
    }
   ],
   "source": [
    "# append will not work in tuple, as tuple already is immutable\n",
    "a.append(100)"
   ]
  },
  {
   "cell_type": "code",
   "execution_count": 19,
   "id": "d9eddae4",
   "metadata": {},
   "outputs": [
    {
     "data": {
      "text/plain": [
       "1"
      ]
     },
     "execution_count": 19,
     "metadata": {},
     "output_type": "execute_result"
    }
   ],
   "source": [
    "# count the number of element in the tuple \n",
    "a.count(10)"
   ]
  },
  {
   "cell_type": "markdown",
   "id": "0361bd95",
   "metadata": {},
   "source": [
    "## set"
   ]
  },
  {
   "cell_type": "code",
   "execution_count": null,
   "id": "56f2fa8e",
   "metadata": {},
   "outputs": [],
   "source": [
    "# change in set and list :  duplicate value cannot repeats"
   ]
  },
  {
   "cell_type": "code",
   "execution_count": 20,
   "id": "b7fd7f0c",
   "metadata": {},
   "outputs": [
    {
     "name": "stdout",
     "output_type": "stream",
     "text": [
      "{1, 2, 3}\n"
     ]
    }
   ],
   "source": [
    "seta={1,2,3}\n",
    "print(seta)"
   ]
  },
  {
   "cell_type": "code",
   "execution_count": 21,
   "id": "12d28108",
   "metadata": {},
   "outputs": [],
   "source": [
    "seta.add(2)"
   ]
  },
  {
   "cell_type": "code",
   "execution_count": 22,
   "id": "e7cdf412",
   "metadata": {},
   "outputs": [
    {
     "name": "stdout",
     "output_type": "stream",
     "text": [
      "{1, 2, 3}\n"
     ]
    }
   ],
   "source": [
    "print(seta)"
   ]
  },
  {
   "cell_type": "code",
   "execution_count": 23,
   "id": "251f5f45",
   "metadata": {},
   "outputs": [
    {
     "name": "stdout",
     "output_type": "stream",
     "text": [
      "{1, 2, 3, 5}\n"
     ]
    }
   ],
   "source": [
    "seta.add(5)\n",
    "print(seta)"
   ]
  },
  {
   "cell_type": "code",
   "execution_count": 24,
   "id": "88853702",
   "metadata": {},
   "outputs": [
    {
     "name": "stdout",
     "output_type": "stream",
     "text": [
      "{1, 2, 3, 5}\n"
     ]
    }
   ],
   "source": [
    "seta.add(2)\n",
    "print(seta)"
   ]
  },
  {
   "cell_type": "markdown",
   "id": "c9ce93c4",
   "metadata": {},
   "source": [
    "## Dictionary or json"
   ]
  },
  {
   "cell_type": "code",
   "execution_count": 1,
   "id": "aab17763",
   "metadata": {},
   "outputs": [
    {
     "data": {
      "text/plain": [
       "{'name': 'Anu', 'batch': 'b1'}"
      ]
     },
     "execution_count": 1,
     "metadata": {},
     "output_type": "execute_result"
    }
   ],
   "source": [
    "dict1={\"name\":\"Anu\",\"batch\":\"b1\"}\n",
    "dict1"
   ]
  },
  {
   "cell_type": "code",
   "execution_count": 26,
   "id": "d83c54f4",
   "metadata": {},
   "outputs": [
    {
     "data": {
      "text/plain": [
       "dict_keys(['name', 'batch'])"
      ]
     },
     "execution_count": 26,
     "metadata": {},
     "output_type": "execute_result"
    }
   ],
   "source": [
    "# accesing the key\n",
    "dict1.keys()"
   ]
  },
  {
   "cell_type": "code",
   "execution_count": 2,
   "id": "eb628c06",
   "metadata": {},
   "outputs": [
    {
     "data": {
      "text/plain": [
       "dict_values(['Anu', 'b1'])"
      ]
     },
     "execution_count": 2,
     "metadata": {},
     "output_type": "execute_result"
    }
   ],
   "source": [
    "dict1.values()"
   ]
  },
  {
   "cell_type": "code",
   "execution_count": null,
   "id": "cd9fcb1e",
   "metadata": {},
   "outputs": [],
   "source": [
    "# in json and dict, the key are store in string "
   ]
  },
  {
   "cell_type": "code",
   "execution_count": 3,
   "id": "ff10a2d0",
   "metadata": {},
   "outputs": [
    {
     "data": {
      "text/plain": [
       "'Anu'"
      ]
     },
     "execution_count": 3,
     "metadata": {},
     "output_type": "execute_result"
    }
   ],
   "source": [
    "# accesing the value in the dictionary\n",
    "dict1[\"name\"]"
   ]
  },
  {
   "cell_type": "code",
   "execution_count": 29,
   "id": "a6e14150",
   "metadata": {},
   "outputs": [
    {
     "data": {
      "text/plain": [
       "'b1'"
      ]
     },
     "execution_count": 29,
     "metadata": {},
     "output_type": "execute_result"
    }
   ],
   "source": [
    "dict1[\"batch\"]"
   ]
  },
  {
   "cell_type": "code",
   "execution_count": null,
   "id": "3fe327c3",
   "metadata": {},
   "outputs": [],
   "source": [
    "# write a program that take user input in numeric form and print it table"
   ]
  },
  {
   "cell_type": "code",
   "execution_count": 12,
   "id": "a5a35e2b",
   "metadata": {},
   "outputs": [
    {
     "name": "stdout",
     "output_type": "stream",
     "text": [
      "enter the number =>5\n",
      "5 x 1=> 5\n",
      "5 x 2=> 10\n",
      "5 x 3=> 15\n",
      "5 x 4=> 20\n",
      "5 x 5=> 25\n",
      "5 x 6=> 30\n",
      "5 x 7=> 35\n",
      "5 x 8=> 40\n",
      "5 x 9=> 45\n",
      "5 x 10=> 50\n"
     ]
    }
   ],
   "source": [
    "a=int(input(\"enter the number =>\"))\n",
    "\n",
    "for i in range(1,11):\n",
    "    val=a*i\n",
    "    print(f\"{a} x {i}=> {val}\")\n",
    "    "
   ]
  },
  {
   "cell_type": "code",
   "execution_count": null,
   "id": "410a5270",
   "metadata": {},
   "outputs": [],
   "source": [
    "# write a function that gives sum ,average, min and maximum of all the input argument"
   ]
  },
  {
   "cell_type": "code",
   "execution_count": 39,
   "id": "7258dc1f",
   "metadata": {},
   "outputs": [
    {
     "name": "stdout",
     "output_type": "stream",
     "text": [
      "enter the value 1=> 10\n",
      "enter the value 2=> 20\n",
      "enter the value 3=> 30\n",
      "sum of the number is 60\n",
      "average of the number is 20.0\n",
      "minimum of the number is 10\n",
      "maximum of the number is 30\n"
     ]
    }
   ],
   "source": [
    "def calc(a,b,c):\n",
    "    sum1=a+b+c\n",
    "    average=sum1/3\n",
    "    print(f\"sum of the number is {sum1}\")\n",
    "    print(f\"average of the number is {average}\")\n",
    "    print(f\"minimum of the number is {min(a,b,c)}\")\n",
    "    print(f\"maximum of the number is {max(a,b,c)}\")\n",
    "\n",
    "x= int(input(\"enter the value 1=> \"))\n",
    "y= int(input(\"enter the value 2=> \"))\n",
    "z= int(input(\"enter the value 3=> \"))\n",
    "calc(x,y,z)"
   ]
  },
  {
   "cell_type": "code",
   "execution_count": 45,
   "id": "e422389a",
   "metadata": {},
   "outputs": [
    {
     "name": "stdout",
     "output_type": "stream",
     "text": [
      "sum of the number is 150\n",
      "average of the number is 30.0\n",
      "minimum of the number is 10\n",
      "maximum of the number is 50\n",
      "\n",
      "sum of the number is 70\n",
      "average of the number is 14.0\n",
      "minimum of the number is 0\n",
      "maximum of the number is 40\n"
     ]
    }
   ],
   "source": [
    "# what is the user want to add more argument\n",
    "\n",
    "def calc(a,b,c,d=0,e=0):\n",
    "    sum1=a+b+c+d+e\n",
    "    average=sum1/5\n",
    "    print(f\"sum of the number is {sum1}\")\n",
    "    print(f\"average of the number is {average}\")\n",
    "    print(f\"minimum of the number is {min(a,b,c,d,e)}\")\n",
    "    print(f\"maximum of the number is {max(a,b,c,d,e)}\")\n",
    "\n",
    "calc(10,20,30,40,50)\n",
    "print()\n",
    "calc(10,20,40)"
   ]
  },
  {
   "cell_type": "code",
   "execution_count": null,
   "id": "017371d7",
   "metadata": {},
   "outputs": [],
   "source": [
    "def calc(a,b,*args):\n",
    "    print(a)\n",
    "    print(b)\n",
    "    print(args)\n",
    "\n",
    "calc(10,20,30,40,50)\n",
    "print()\n",
    "calc(10,20,40)"
   ]
  }
 ],
 "metadata": {
  "kernelspec": {
   "display_name": "Python 3 (ipykernel)",
   "language": "python",
   "name": "python3"
  },
  "language_info": {
   "codemirror_mode": {
    "name": "ipython",
    "version": 3
   },
   "file_extension": ".py",
   "mimetype": "text/x-python",
   "name": "python",
   "nbconvert_exporter": "python",
   "pygments_lexer": "ipython3",
   "version": "3.12.4"
  }
 },
 "nbformat": 4,
 "nbformat_minor": 5
}
