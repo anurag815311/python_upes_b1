{
 "cells": [
  {
   "cell_type": "markdown",
   "id": "a51cb37a",
   "metadata": {},
   "source": [
    "# lecture 4 : 28-08-2024"
   ]
  },
  {
   "cell_type": "markdown",
   "id": "a2944917",
   "metadata": {},
   "source": [
    "# Naming convention in python "
   ]
  },
  {
   "cell_type": "markdown",
   "id": "5c834b80",
   "metadata": {},
   "source": [
    "# snake case \n",
    "\n",
    "  snake case is a  naming convention where words are sperated by underscores(_) and all letters are lowercase. this style is commonly used for naming varibales functions and methods"
   ]
  },
  {
   "cell_type": "code",
   "execution_count": 1,
   "id": "3a2f7b99",
   "metadata": {},
   "outputs": [
    {
     "data": {
      "text/plain": [
       "20.0"
      ]
     },
     "execution_count": 1,
     "metadata": {},
     "output_type": "execute_result"
    }
   ],
   "source": [
    "# Variable names\n",
    "\n",
    "user_name = \"Anurag\"\n",
    "total_score = 0\n",
    "\n",
    "\n",
    "def calculate_average(score_list):\n",
    "    total = sum(score_list)\n",
    "    return total / len(score_list)\n",
    "\n",
    "calculate_average([10,20,30])"
   ]
  },
  {
   "cell_type": "markdown",
   "id": "17f7d320",
   "metadata": {},
   "source": [
    "# Camel case "
   ]
  },
  {
   "cell_type": "markdown",
   "id": "d5b6f7f0",
   "metadata": {},
   "source": [
    "first letter of every word will remain small and rest word starting with Captial letter\n",
    "\n",
    "eg  :  userName, totalNumber,countAge"
   ]
  },
  {
   "cell_type": "markdown",
   "id": "fd4f743c",
   "metadata": {},
   "source": [
    "# Pascal Case\n",
    "Captial letter of each word in the variable \n"
   ]
  },
  {
   "cell_type": "code",
   "execution_count": null,
   "id": "15cd4c92",
   "metadata": {},
   "outputs": [],
   "source": [
    "\n",
    "# Class name in Pascal case\n",
    "\n",
    "class EmployeeDetails:\n",
    "    def init(self, name, age):\n",
    "        self.name = #name\n",
    "        self.age = #ageCreating an instance of the class\n",
    "\n",
    "\n",
    "employee = EmployeeDetails(\"Alice\", 30)\n",
    "print(employee.name)  # Output: Alice"
   ]
  },
  {
   "cell_type": "markdown",
   "id": "764ef031",
   "metadata": {},
   "source": [
    "### A user has a 3X 3 matrix , store this matrix in a variable , copy this matrix in another variable and then in copied matrix mulitple each value by constant and store the result inplace\n",
    "\n",
    "### Print both the matrix"
   ]
  },
  {
   "cell_type": "code",
   "execution_count": 18,
   "id": "a958956b",
   "metadata": {},
   "outputs": [
    {
     "name": "stdout",
     "output_type": "stream",
     "text": [
      "first matrix\n",
      "[[3, 6, 9], [12, 15, 18], [21, 24, 27]]\n",
      "\n",
      " copied matrix\n",
      "[[3, 6, 9], [12, 15, 18], [21, 24, 27]]\n",
      "1968985225728\n",
      "1968985225728\n"
     ]
    }
   ],
   "source": [
    "list1=[\n",
    "    [1,2,3],\n",
    "    [4,5,6],\n",
    "    [7,8,9]\n",
    "]\n",
    "\n",
    "# copy the matrix\n",
    "list2=list1\n",
    "\n",
    "\n",
    "# multiple by number by 2\n",
    "constant=3\n",
    "for i in range(len(list2)):\n",
    "    for j in range(len(list2[i])):\n",
    "        list2[i][j] *= constant\n",
    "\n",
    "    \n",
    "# Print both matrices\n",
    "print(\"first matrix\")\n",
    "print(list1)\n",
    "\n",
    "print(\"\\n copied matrix\")\n",
    "print(list2)\n",
    "    \n",
    "\n",
    "    \n",
    "    \n",
    "# checking the id of the list 1 and list 2 \n",
    "# ki woh change hue ya nhi\n",
    "\n",
    "print(id(list1))\n",
    "print(id(list2))"
   ]
  }
 ],
 "metadata": {
  "kernelspec": {
   "display_name": "Python 3 (ipykernel)",
   "language": "python",
   "name": "python3"
  },
  "language_info": {
   "codemirror_mode": {
    "name": "ipython",
    "version": 3
   },
   "file_extension": ".py",
   "mimetype": "text/x-python",
   "name": "python",
   "nbconvert_exporter": "python",
   "pygments_lexer": "ipython3",
   "version": "3.12.4"
  }
 },
 "nbformat": 4,
 "nbformat_minor": 5
}
