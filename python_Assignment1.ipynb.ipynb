{
 "cells": [
  {
   "cell_type": "code",
   "execution_count": 3,
   "id": "4797d264-62e0-4719-b1f9-8f6af9e6b254",
   "metadata": {},
   "outputs": [
    {
     "name": "stdout",
     "output_type": "stream",
     "text": [
      "Hello, my name is ANURAG KUMAR SINGH.\n",
      "I am taking the MCA course.\n",
      "I am using Python version 3.12.4 | packaged by Anaconda, Inc. | (main, Jun 18 2024, 15:03:56) [MSC v.1929 64 bit (AMD64)].\n",
      "Hello Python World!\n"
     ]
    }
   ],
   "source": [
    "# Define your name and course name\n",
    "name = \"ANURAG KUMAR SINGH\"\n",
    "course_name = \"MCA\"\n",
    "\n",
    "# Get the Python version\n",
    "import sys\n",
    "python_version = sys.version\n",
    "\n",
    "# Print the information\n",
    "print(f\"Hello, my name is {name}.\")\n",
    "print(f\"I am taking the {course_name} course.\")\n",
    "print(f\"I am using Python version {python_version}.\")\n",
    "\n",
    "#next question\n",
    "print(\"Hello Python World!\")"
   ]
  },
  {
   "cell_type": "markdown",
   "id": "27b6611f-00af-4534-88c5-73311bea9316",
   "metadata": {},
   "source": [
    "#Write a Python program that takes a user's first and last name as input and prints them in reverse order with a space between them."
   ]
  },
  {
   "cell_type": "code",
   "execution_count": 5,
   "id": "73d4931f-71c2-400d-9de6-df1f66957964",
   "metadata": {},
   "outputs": [
    {
     "name": "stdin",
     "output_type": "stream",
     "text": [
      "Enter your first name:  Anurag kumar\n",
      "Enter your last name:  Singh\n"
     ]
    },
    {
     "name": "stdout",
     "output_type": "stream",
     "text": [
      "hgniS ramuk garunA\n"
     ]
    }
   ],
   "source": [
    "# Get the user's first and last name\n",
    "first_name = input(\"Enter your first name: \")\n",
    "last_name = input(\"Enter your last name: \")\n",
    "# Reverse the order and alphabets, and print\n",
    "print(last_name[::-1] + \" \" + first_name[::-1])"
   ]
  },
  {
   "cell_type": "code",
   "execution_count": 13,
   "id": "fb490919-f3ee-47bf-8d7f-e2163a941e4a",
   "metadata": {},
   "outputs": [
    {
     "name": "stdin",
     "output_type": "stream",
     "text": [
      "Enter your first name:  ANURAG\n",
      "Enter your last name:  SINGH\n"
     ]
    },
    {
     "name": "stdout",
     "output_type": "stream",
     "text": [
      "hgnis garuna\n"
     ]
    }
   ],
   "source": [
    "# Use atleast two string methods and explain their purpose in the comments.\n",
    "# Get the user's first and last name\n",
    "first_name = input(\"Enter your first name: \")\n",
    "last_name = input(\"Enter your last name: \")\n",
    "# Use the upper() method to convert to uppercase\n",
    "first_name_upper = first_name.upper()\n",
    "last_name_upper = last_name.upper()\n",
    "# Use the swapcase() method to swap case\n",
    "first_name_swapcase = first_name_upper.swapcase()\n",
    "last_name_swapcase = last_name_upper.swapcase()\n",
    "# Reverse the order and alphabets, and print\n",
    "print(last_name_swapcase[::-1] + \" \" + first_name_swapcase[::-1])\n"
   ]
  },
  {
   "cell_type": "markdown",
   "id": "8d4fe7c0-fd19-4adb-bb2e-18d5c9f934bc",
   "metadata": {},
   "source": [
    "Here's an explanation of how the above code works:\r\n",
    "\r\n",
    "The input() function is used to get the user's first and last name. The user is prompted to enter their name, and the input is stored in the first_name and last_name variables.\r\n",
    "The upper() method is used to convert the input strings to uppercase.\r\n",
    "The swapcase() method is used to swap the case of the uppercase strings, so that uppercase letters become lowercase and vice versa.\r\n",
    "The [::-1] syntax is used to reverse the characters in each string.\r\n",
    "The + operator is used to concatenate (join) the reversed last_name and first_name variables with a space in between.\r\n",
    "The resulting string is printed to the console using the print() funon.\r\n",
    "\"\"\""
   ]
  },
  {
   "cell_type": "markdown",
   "id": "290833cd-f2b3-4a43-81d2-76ef30aa8f25",
   "metadata": {},
   "source": [
    "Write a Python program that takes an input number from the user, converts it to\r\n",
    "different numeric data types (integer, float, and complex), and displays the\r\n",
    "converted values."
   ]
  },
  {
   "cell_type": "code",
   "execution_count": 15,
   "id": "1096fc6e-9cef-48be-80a3-b8ab7e6ea977",
   "metadata": {},
   "outputs": [
    {
     "name": "stdin",
     "output_type": "stream",
     "text": [
      "Enter a number:  23\n"
     ]
    },
    {
     "name": "stdout",
     "output_type": "stream",
     "text": [
      "Integer: 23\n",
      "Float: 23.0\n",
      "Complex: (23+0j)\n"
     ]
    }
   ],
   "source": [
    "# Get the input number from the user\n",
    "num = input(\"Enter a number: \")\n",
    "\n",
    "# Convert the input number to integer\n",
    "try:\n",
    "    int_num = int(num)\n",
    "    print(\"Integer:\", int_num)\n",
    "except ValueError:\n",
    "    print(\"Error: Cannot convert to integer\")\n",
    "\n",
    "# Convert the input number to float\n",
    "try:\n",
    "    float_num = float(num)\n",
    "    print(\"Float:\", float_num)\n",
    "except ValueError:\n",
    "    print(\"Error: Cannot convert to float\")\n",
    "\n",
    "# Convert the input number to complex\n",
    "try:\n",
    "    complex_num = complex(num)\n",
    "    print(\"Complex:\", complex_num)\n",
    "except ValueError:\n",
    "    print(\"Error: Cannot convert to complex\")\n"
   ]
  },
  {
   "cell_type": "markdown",
   "id": "ebc331b4-9579-4bea-8bef-0f7c200ea93b",
   "metadata": {},
   "source": [
    "\r\n",
    "Q.EXPLAIN THE DIFFERENCE BETWEEN FLOAT , INTEGER AND COMPLEX DATATYPE IN PYTHON?\r\n",
    "\r\n",
    "-> In Python, integer, float, and complex are three distinct numeric data types that represent different types of numbers. \r\n",
    "\r\n",
    "Integer (int)\r\n",
    "\r\n",
    "Represents whole numbers, either positive, negative, or zero.\r\n",
    "Examples: 1, 2, 3, -1, 0\r\n",
    "Can be expressed in decimal, octal, or hexadecimal notation.\r\n",
    "Operations: +, -, *, /, //, %, **\r\n",
    "Properties:\r\n",
    "Whole numbers only (no fractional part)\r\n",
    "Can be used for indexing, slicing, and counting\r\n",
    "Can be used in bitwise operations\r\n",
    "Float (float)\r\n",
    "\r\n",
    "Represents decimal numbers, either positive, negative, or zero.\r\n",
    "Examples: 3.14, -0.5, 1.0, 2.5e-3\r\n",
    "Can be expressed in decimal or scientific notation.\r\n",
    "Operations: +, -, *, /, //, %, **\r\n",
    "Properties:\r\n",
    "Has a fractional part ( decimal point)\r\n",
    "Can represent very large or very small numbers\r\n",
    "Can be used in mathematical operations that require precision\r\n",
    "Complex (complex)\r\n",
    "\r\n",
    "Represents complex numbers, which have both real and imaginary parts.\r\n",
    "Examples: 3+4j, -2-3j, 1+0j (real number), 0+1j (imaginary unit)\r\n",
    "Can be expressed in the form a+bj, where a is the real part and b is the imaginary part.\r\n",
    "Operations: +, -, *, /, **\r\n",
    "Properties:\r\n",
    "Has both real and imaginary parts\r\n",
    "Can be used in mathematical operations that require complex arithmetic\r\n",
    "Can be used to represent quantities with both magnitude and direction (e.g., electrical engineering)\r\n",
    "Key differences:\r\n",
    "\r\n",
    "Integer vs. Float: Integers are whole numbers, while floats are decimal numbers. Integers are typically used for counting, indexing, and bitwise operations, while floats are used for mathematical operations that require precision.\r\n",
    "Float vs. Complex: Floats are decimal numbers, while complex numbers have both real and imaginary parts. Complex numbers are used in mathematical operations that require complex arithmetic, such as electrical engineering and signal processing.\r\n",
    "Integer vs. Complex: Integers are whole numbers, while complex numbers have both real and imaginary parts. Integers are typically used for counting, indexing, and bitwise operations, while complex numbers are used in mathematical operons that require complex arithmetic.\"\"\"\r\n"
   ]
  },
  {
   "cell_type": "markdown",
   "id": "3d83efb6-a6b2-41c1-8e6b-5e2bab76c2ff",
   "metadata": {},
   "source": [
    "Create a Python script that calculates the area of a rectangle"
   ]
  },
  {
   "cell_type": "code",
   "execution_count": 17,
   "id": "bb64d5e0-475a-4077-911f-04a6460be6d3",
   "metadata": {},
   "outputs": [
    {
     "name": "stdin",
     "output_type": "stream",
     "text": [
      "Enter the length of the rectangle:  23\n",
      "Enter the width of the rectangle:  23\n"
     ]
    },
    {
     "name": "stdout",
     "output_type": "stream",
     "text": [
      "The area of the rectangle is: 529.0\n",
      "The area of the rectangle is: 529.00\n"
     ]
    }
   ],
   "source": [
    "# Get the length and width from the user\n",
    "length = float(input(\"Enter the length of the rectangle: \"))\n",
    "width = float(input(\"Enter the width of the rectangle: \"))\n",
    "\n",
    "# Calculate the area\n",
    "area = length * width\n",
    "\n",
    "# Print the result\n",
    "print(\"The area of the rectangle is:\", area)\n",
    "\n",
    "# Print the result with two decimal places\n",
    "print(\"The area of the rectangle is: {:.2f}\".format(area))\n"
   ]
  },
  {
   "cell_type": "markdown",
   "id": "a4624785-76f2-40f3-9935-62e4658bfd6a",
   "metadata": {},
   "source": [
    "Write a Python script that takes three numbers as input and prints their average\r\n",
    "using the % method for string formatting.\r\n",
    "Also, use the print function to display a message that states, \"The average\r\n",
    "of the three numbers is: [calculated avera]\" "
   ]
  },
  {
   "cell_type": "code",
   "execution_count": 21,
   "id": "cfad4594-cec9-45bb-a235-c8d9ae230d3f",
   "metadata": {},
   "outputs": [
    {
     "name": "stdin",
     "output_type": "stream",
     "text": [
      "Enter the first number:  23.4\n",
      "Enter the second number:  23.2\n",
      "Enter the third number:  12\n"
     ]
    },
    {
     "name": "stdout",
     "output_type": "stream",
     "text": [
      "The average of the three numbers is: 19.53\n"
     ]
    }
   ],
   "source": [
    "# Get the three numbers from the user\n",
    "num1 = float(input(\"Enter the first number: \"))\n",
    "num2 = float(input(\"Enter the second number: \"))\n",
    "num3 = float(input(\"Enter the third number: \"))\n",
    "\n",
    "# Calculate the average\n",
    "average = (num1 + num2 + num3) / 3\n",
    "\n",
    "# Print the result using % formatting\n",
    "print(\"The average of the three numbers is: %.2f\" % average)"
   ]
  },
  {
   "cell_type": "markdown",
   "id": "07f45abe-4cf3-4337-823c-5fd43f4d4464",
   "metadata": {},
   "source": [
    "Write a Python program that asks the user for a number and determines whether\n",
    "it is positive, negative, or zero.\n",
    "Implement a loop that continues to ask the user for a number until they enter\n",
    "'exit'.\n",
    "Use break to exit the loop and continue to prompt for a new number\n",
    "if the input is not 'exit'."
   ]
  },
  {
   "cell_type": "code",
   "execution_count": 23,
   "id": "75a8e5c9-b985-45a0-bd9d-dd9b28f66597",
   "metadata": {},
   "outputs": [
    {
     "name": "stdin",
     "output_type": "stream",
     "text": [
      "Enter a number (or type 'exit' to quit):  23\n"
     ]
    },
    {
     "name": "stdout",
     "output_type": "stream",
     "text": [
      "23.0 is a positive number.\n"
     ]
    },
    {
     "name": "stdin",
     "output_type": "stream",
     "text": [
      "Enter a number (or type 'exit' to quit):  2\n"
     ]
    },
    {
     "name": "stdout",
     "output_type": "stream",
     "text": [
      "2.0 is a positive number.\n"
     ]
    },
    {
     "name": "stdin",
     "output_type": "stream",
     "text": [
      "Enter a number (or type 'exit' to quit):  exit\n"
     ]
    }
   ],
   "source": [
    "while True:\n",
    "    user_input = input(\"Enter a number (or type 'exit' to quit): \")\n",
    "\n",
    "    if user_input.lower() == 'exit':\n",
    "        break\n",
    "\n",
    "    try:\n",
    "        num = float(user_input)\n",
    "        if num > 0:\n",
    "            print(f\"{num} is a positive number.\")\n",
    "        elif num < 0:\n",
    "            print(f\"{num} is a negative number.\")\n",
    "        else:\n",
    "            print(f\"{num} is zero.\")\n",
    "    except ValueError:\n",
    "        print(\"Invalid input. Please enter a number or type 'exit' to quit.\")\n",
    "        continue"
   ]
  },
  {
   "cell_type": "markdown",
   "id": "a7a7f9a8-a088-4b24-b38d-cd56eb8f875d",
   "metadata": {},
   "source": [
    "Create a Python script that takes two numbers as input and prints whether both numbers are even, odd, or one of each using relational and logical operators."
   ]
  },
  {
   "cell_type": "code",
   "execution_count": 25,
   "id": "3a3ab2b3-c1c9-48b0-9910-4570b536a4f3",
   "metadata": {},
   "outputs": [
    {
     "name": "stdin",
     "output_type": "stream",
     "text": [
      "Enter the first number:  23\n",
      "Enter the second number:  234\n"
     ]
    },
    {
     "name": "stdout",
     "output_type": "stream",
     "text": [
      "One number is even and the other is odd.\n"
     ]
    }
   ],
   "source": [
    "# Get the two numbers from the user\n",
    "num1 = int(input(\"Enter the first number: \"))\n",
    "num2 = int(input(\"Enter the second number: \"))\n",
    "\n",
    "# Check if both numbers are even\n",
    "if num1 % 2 == 0 and num2 % 2 == 0:\n",
    "    print(\"Both numbers are even.\")\n",
    "# Check if both numbers are odd\n",
    "elif num1 % 2 != 0 and num2 % 2 != 0:\n",
    "    print(\"Both numbers are odd.\")\n",
    "# If neither of the above conditions is true, one number is even and the other is odd\n",
    "else:\n",
    "    print(\"One number is even and the other is odd.\")"
   ]
  },
  {
   "cell_type": "code",
   "execution_count": null,
   "id": "eb276044-4d7e-405e-9829-0f9bf9f948bf",
   "metadata": {},
   "outputs": [],
   "source": []
  }
 ],
 "metadata": {
  "kernelspec": {
   "display_name": "Python 3 (ipykernel)",
   "language": "python",
   "name": "python3"
  },
  "language_info": {
   "codemirror_mode": {
    "name": "ipython",
    "version": 3
   },
   "file_extension": ".py",
   "mimetype": "text/x-python",
   "name": "python",
   "nbconvert_exporter": "python",
   "pygments_lexer": "ipython3",
   "version": "3.12.4"
  }
 },
 "nbformat": 4,
 "nbformat_minor": 5
}
