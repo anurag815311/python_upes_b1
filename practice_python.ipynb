{
 "cells": [
  {
   "cell_type": "code",
   "execution_count": 3,
   "id": "429dec43-109e-41c0-bdb6-d8f356c161d8",
   "metadata": {},
   "outputs": [
    {
     "name": "stdout",
     "output_type": "stream",
     "text": [
      "[1, 23, 43]\n"
     ]
    }
   ],
   "source": [
    "a=[1,23,43,]\n",
    "print(a)"
   ]
  },
  {
   "cell_type": "code",
   "execution_count": 7,
   "id": "44e79633-a45b-45bc-80e9-5c4fe5c37fd0",
   "metadata": {},
   "outputs": [
    {
     "name": "stdout",
     "output_type": "stream",
     "text": [
      "[12, 23, 45]\n"
     ]
    }
   ],
   "source": [
    "b=[12,23,45]\n",
    "print(b)\n"
   ]
  },
  {
   "cell_type": "code",
   "execution_count": 9,
   "id": "c04a1cad-149c-483b-b3b5-a0c7870ddd69",
   "metadata": {},
   "outputs": [
    {
     "data": {
      "text/plain": [
       "list"
      ]
     },
     "execution_count": 9,
     "metadata": {},
     "output_type": "execute_result"
    }
   ],
   "source": [
    "type(b)"
   ]
  },
  {
   "cell_type": "code",
   "execution_count": null,
   "id": "5a23c657-0403-4590-82d4-6b4a1c875d33",
   "metadata": {},
   "outputs": [],
   "source": [
    "PYTHON"
   ]
  },
  {
   "cell_type": "code",
   "execution_count": 1,
   "id": "8eaa01c3-ea3c-4d32-a0af-a8346ddc97ab",
   "metadata": {},
   "outputs": [
    {
     "name": "stdout",
     "output_type": "stream",
     "text": [
      "set()\n"
     ]
    },
    {
     "data": {
      "text/plain": [
       "set"
      ]
     },
     "execution_count": 1,
     "metadata": {},
     "output_type": "execute_result"
    }
   ],
   "source": [
    "set_var=set()\n",
    "print(set_var)\n",
    "type(set_var)"
   ]
  },
  {
   "cell_type": "code",
   "execution_count": 3,
   "id": "a4e7ca2c-da41-44a2-aced-1e1fbd4d312b",
   "metadata": {},
   "outputs": [
    {
     "name": "stdout",
     "output_type": "stream",
     "text": [
      "{'yazz', 'axzbx', 'xyz'}\n"
     ]
    }
   ],
   "source": [
    "set1={\"xyz\",\"yazz\",\"axzbx\"}\n",
    "print(set1)"
   ]
  },
  {
   "cell_type": "code",
   "execution_count": 5,
   "id": "f3ba3bfd-8a23-451f-9f41-ed7edf49d361",
   "metadata": {},
   "outputs": [
    {
     "name": "stdout",
     "output_type": "stream",
     "text": [
      "{'hkahgsb', 'yazz', 'axzbx', 'xyz'}\n"
     ]
    }
   ],
   "source": [
    "set1.add(\"hkahgsb\")\n",
    "print(set1)"
   ]
  },
  {
   "cell_type": "code",
   "execution_count": 7,
   "id": "f3fdf1e0-9d1c-4d76-b550-5b7e1a1dd0a3",
   "metadata": {},
   "outputs": [
    {
     "name": "stdout",
     "output_type": "stream",
     "text": [
      "{'hkahgsb', 'yazz', 'axzbx', 'xyz', 'xyx'}\n"
     ]
    }
   ],
   "source": [
    "set2={\"hkahgsb\",\"yazz\",\"axzbx\",\"xyx\",\"xyz\"}\n",
    "print(set2)"
   ]
  },
  {
   "cell_type": "code",
   "execution_count": 11,
   "id": "e0928332-fcda-4918-a8ab-7868b8131a9d",
   "metadata": {},
   "outputs": [
    {
     "data": {
      "text/plain": [
       "{'xyx'}"
      ]
     },
     "execution_count": 11,
     "metadata": {},
     "output_type": "execute_result"
    }
   ],
   "source": [
    "set2.difference(set1)"
   ]
  },
  {
   "cell_type": "code",
   "execution_count": 31,
   "id": "b0244db1-a4b9-4217-9a35-25b947e70ecb",
   "metadata": {},
   "outputs": [
    {
     "name": "stdout",
     "output_type": "stream",
     "text": [
      "{'brand': 'Ford', 'model': 'Mustang', 'year': 1964}\n"
     ]
    }
   ],
   "source": [
    "thisdict = {\n",
    "  \"brand\": \"Ford\",\n",
    "  \"model\": \"Mustang\",\n",
    "  \"year\": 1964\n",
    "}\n",
    "print(thisdict)"
   ]
  },
  {
   "cell_type": "code",
   "execution_count": 33,
   "id": "06c3f55f-f7dd-4c6d-8349-1d2a9cf74796",
   "metadata": {},
   "outputs": [
    {
     "name": "stdout",
     "output_type": "stream",
     "text": [
      "brand\n",
      "model\n",
      "year\n"
     ]
    }
   ],
   "source": [
    "for i in thisdict:\n",
    "    print(i)"
   ]
  },
  {
   "cell_type": "code",
   "execution_count": 41,
   "id": "6c377c1d-6ec5-4b44-8dc6-d49f0bfadb16",
   "metadata": {},
   "outputs": [
    {
     "name": "stdout",
     "output_type": "stream",
     "text": [
      "Ford\n",
      "Mustang\n",
      "1964\n"
     ]
    }
   ],
   "source": [
    "for x in thisdict.values():\n",
    "    print(x)"
   ]
  },
  {
   "cell_type": "code",
   "execution_count": 43,
   "id": "66ad6972-705a-4473-8064-35d52eaabfba",
   "metadata": {},
   "outputs": [
    {
     "name": "stdout",
     "output_type": "stream",
     "text": [
      "{'brand': 'Ford', 'model': 'Mustang', 'year': 1964, 'color': 'gold'}\n"
     ]
    }
   ],
   "source": [
    "thisdict['color']='gold'\n",
    "print(thisdict)"
   ]
  },
  {
   "cell_type": "code",
   "execution_count": 45,
   "id": "d7e68d9e-1fcb-4715-9ee3-923a6bd32a1b",
   "metadata": {},
   "outputs": [
    {
     "name": "stdout",
     "output_type": "stream",
     "text": [
      "{'brand': 'BMW', 'model': 'Mustang', 'year': 1964, 'color': 'gold'}\n"
     ]
    }
   ],
   "source": [
    "thisdict['brand']='BMW'\n",
    "print(thisdict)"
   ]
  },
  {
   "cell_type": "code",
   "execution_count": 5,
   "id": "44b5caa8-086f-4132-824a-43698b9e3302",
   "metadata": {},
   "outputs": [
    {
     "name": "stdout",
     "output_type": "stream",
     "text": [
      "('anurag', 'anurag', 'divyanshu', 'ayush')\n"
     ]
    }
   ],
   "source": [
    "my_tuple=(\"anurag\",\"anurag\",\"divyanshu\",\"ayush\")\n",
    "print(my_tuple)"
   ]
  },
  {
   "cell_type": "code",
   "execution_count": 7,
   "id": "edb15b6a-34e3-463a-8137-f2e0a1d5ad2d",
   "metadata": {},
   "outputs": [
    {
     "data": {
      "text/plain": [
       "3"
      ]
     },
     "execution_count": 7,
     "metadata": {},
     "output_type": "execute_result"
    }
   ],
   "source": [
    "my_tuple.count('anurag')\n",
    "my_tuple.index('ayush')"
   ]
  },
  {
   "cell_type": "code",
   "execution_count": 9,
   "id": "bd506fd6-d4f8-45d1-9010-d63a6c6cb937",
   "metadata": {},
   "outputs": [
    {
     "data": {
      "text/plain": [
       "2"
      ]
     },
     "execution_count": 9,
     "metadata": {},
     "output_type": "execute_result"
    }
   ],
   "source": [
    "my_tuple.count('anurag')\n"
   ]
  },
  {
   "cell_type": "code",
   "execution_count": 11,
   "id": "773144cd-1221-403e-b3e0-f1eca3d6c749",
   "metadata": {},
   "outputs": [],
   "source": [
    "import numpy as np"
   ]
  },
  {
   "cell_type": "code",
   "execution_count": 13,
   "id": "7caac828-febe-427d-a07b-644b8ae727fc",
   "metadata": {},
   "outputs": [],
   "source": [
    "my_lst=[1,2,3,4,5]\n",
    "arr=np.array(my_lst)"
   ]
  },
  {
   "cell_type": "code",
   "execution_count": 15,
   "id": "32a46b55-4cdc-410d-98dd-d1ae78652df0",
   "metadata": {},
   "outputs": [
    {
     "data": {
      "text/plain": [
       "numpy.ndarray"
      ]
     },
     "execution_count": 15,
     "metadata": {},
     "output_type": "execute_result"
    }
   ],
   "source": [
    "type(arr)"
   ]
  },
  {
   "cell_type": "code",
   "execution_count": 17,
   "id": "844010a1-d0db-45b4-9583-e46fd5aebbc7",
   "metadata": {},
   "outputs": [
    {
     "name": "stdout",
     "output_type": "stream",
     "text": [
      "[1 2 3 4 5]\n"
     ]
    }
   ],
   "source": [
    "print(arr)"
   ]
  },
  {
   "cell_type": "code",
   "execution_count": 19,
   "id": "31ef3ac0-2745-4133-862c-cc0db82c0a49",
   "metadata": {},
   "outputs": [
    {
     "data": {
      "text/plain": [
       "(5,)"
      ]
     },
     "execution_count": 19,
     "metadata": {},
     "output_type": "execute_result"
    }
   ],
   "source": [
    "arr.shape"
   ]
  },
  {
   "cell_type": "code",
   "execution_count": 21,
   "id": "cd88c4f2-6a65-458e-8110-dc09312c2954",
   "metadata": {},
   "outputs": [
    {
     "data": {
      "text/plain": [
       "4"
      ]
     },
     "execution_count": 21,
     "metadata": {},
     "output_type": "execute_result"
    }
   ],
   "source": [
    "arr[3]"
   ]
  },
  {
   "cell_type": "code",
   "execution_count": 23,
   "id": "97b12e43-6b49-4885-82c2-088777850af4",
   "metadata": {},
   "outputs": [
    {
     "name": "stdout",
     "output_type": "stream",
     "text": [
      "[[1 2 3 4 5]\n",
      " [2 3 4 5 6]\n",
      " [9 7 6 8 9]]\n"
     ]
    }
   ],
   "source": [
    "arr1=np.array([[1,2,3,4,5],[2,3,4,5,6],[9,7,6,8,9]])\n",
    "print(arr1)"
   ]
  },
  {
   "cell_type": "code",
   "execution_count": 27,
   "id": "f028a3ae-1743-4a96-a4c1-2904a5c307d6",
   "metadata": {},
   "outputs": [
    {
     "data": {
      "text/plain": [
       "array([[5, 6],\n",
       "       [8, 9]])"
      ]
     },
     "execution_count": 27,
     "metadata": {},
     "output_type": "execute_result"
    }
   ],
   "source": [
    "arr1[1:,3:]"
   ]
  },
  {
   "cell_type": "code",
   "execution_count": 35,
   "id": "7af39d89-64fc-4716-a9b4-e8dc651f24c5",
   "metadata": {},
   "outputs": [
    {
     "name": "stdout",
     "output_type": "stream",
     "text": [
      "[0 2 4 6 8]\n"
     ]
    }
   ],
   "source": [
    "arr2=np.arange(0,10,2)\n",
    "print(arr2)"
   ]
  },
  {
   "cell_type": "code",
   "execution_count": 37,
   "id": "2b265f29-e549-4f95-85bb-93f283753635",
   "metadata": {},
   "outputs": [
    {
     "data": {
      "text/plain": [
       "array([ 1.        ,  1.18367347,  1.36734694,  1.55102041,  1.73469388,\n",
       "        1.91836735,  2.10204082,  2.28571429,  2.46938776,  2.65306122,\n",
       "        2.83673469,  3.02040816,  3.20408163,  3.3877551 ,  3.57142857,\n",
       "        3.75510204,  3.93877551,  4.12244898,  4.30612245,  4.48979592,\n",
       "        4.67346939,  4.85714286,  5.04081633,  5.2244898 ,  5.40816327,\n",
       "        5.59183673,  5.7755102 ,  5.95918367,  6.14285714,  6.32653061,\n",
       "        6.51020408,  6.69387755,  6.87755102,  7.06122449,  7.24489796,\n",
       "        7.42857143,  7.6122449 ,  7.79591837,  7.97959184,  8.16326531,\n",
       "        8.34693878,  8.53061224,  8.71428571,  8.89795918,  9.08163265,\n",
       "        9.26530612,  9.44897959,  9.63265306,  9.81632653, 10.        ])"
      ]
     },
     "execution_count": 37,
     "metadata": {},
     "output_type": "execute_result"
    }
   ],
   "source": [
    "np.linspace(1,10,50)"
   ]
  },
  {
   "cell_type": "code",
   "execution_count": 39,
   "id": "df8d5f10-4ff6-4d63-921d-7465d8a79a58",
   "metadata": {},
   "outputs": [
    {
     "data": {
      "text/plain": [
       "array([[0, 1],\n",
       "       [2, 3],\n",
       "       [4, 5],\n",
       "       [6, 7],\n",
       "       [8, 9]])"
      ]
     },
     "execution_count": 39,
     "metadata": {},
     "output_type": "execute_result"
    }
   ],
   "source": [
    "np.arange(0,10).reshape(5,2)"
   ]
  },
  {
   "cell_type": "code",
   "execution_count": 43,
   "id": "904fd8fe-0c7a-4ac0-933e-7964088b9999",
   "metadata": {},
   "outputs": [
    {
     "data": {
      "text/plain": [
       "array([[0.33945933, 0.51368065, 0.93475826],\n",
       "       [0.68850966, 0.19184939, 0.65686657],\n",
       "       [0.09509361, 0.02557511, 0.46173353]])"
      ]
     },
     "execution_count": 43,
     "metadata": {},
     "output_type": "execute_result"
    }
   ],
   "source": [
    "np.random.rand(3,3)"
   ]
  },
  {
   "cell_type": "code",
   "execution_count": 45,
   "id": "cbea0dab-2962-4d0c-957e-302e88dbf4fd",
   "metadata": {},
   "outputs": [
    {
     "data": {
      "text/plain": [
       "array([0.25000413, 0.72185033, 0.37850299])"
      ]
     },
     "execution_count": 45,
     "metadata": {},
     "output_type": "execute_result"
    }
   ],
   "source": [
    "np.random.rand(3)"
   ]
  },
  {
   "cell_type": "code",
   "execution_count": 49,
   "id": "b2ae36de-e8cc-4c17-b233-2621f587e0b9",
   "metadata": {},
   "outputs": [
    {
     "data": {
      "text/plain": [
       "array([98, 37, 60, 24, 75, 39, 24, 55])"
      ]
     },
     "execution_count": 49,
     "metadata": {},
     "output_type": "execute_result"
    }
   ],
   "source": [
    "np.random.randint(1,100,8)"
   ]
  },
  {
   "cell_type": "code",
   "execution_count": 51,
   "id": "3eddd9d7-8ebd-4e25-8679-75a36776f04d",
   "metadata": {},
   "outputs": [
    {
     "data": {
      "text/plain": [
       "array([[0.51173343, 0.37992491, 0.37682206, 0.87787223, 0.19226177]])"
      ]
     },
     "execution_count": 51,
     "metadata": {},
     "output_type": "execute_result"
    }
   ],
   "source": [
    "np.random.random_sample((1,5))"
   ]
  },
  {
   "cell_type": "code",
   "execution_count": 53,
   "id": "f4006133-432e-4408-a171-7935cf53ae77",
   "metadata": {},
   "outputs": [],
   "source": [
    "import pandas as pd"
   ]
  },
  {
   "cell_type": "code",
   "execution_count": 65,
   "id": "7cf55c4d-f074-4247-989f-a312d01b7a0e",
   "metadata": {},
   "outputs": [],
   "source": [
    "df=pd.DataFrame(np.arange(0,20).reshape(5,4),index=['r1','r2','r3','r4','r5'],columns=['c1','c2','c3','c4'])"
   ]
  },
  {
   "cell_type": "code",
   "execution_count": 67,
   "id": "8df11c26-2578-498b-8f50-e925c392d53e",
   "metadata": {},
   "outputs": [
    {
     "data": {
      "text/html": [
       "<div>\n",
       "<style scoped>\n",
       "    .dataframe tbody tr th:only-of-type {\n",
       "        vertical-align: middle;\n",
       "    }\n",
       "\n",
       "    .dataframe tbody tr th {\n",
       "        vertical-align: top;\n",
       "    }\n",
       "\n",
       "    .dataframe thead th {\n",
       "        text-align: right;\n",
       "    }\n",
       "</style>\n",
       "<table border=\"1\" class=\"dataframe\">\n",
       "  <thead>\n",
       "    <tr style=\"text-align: right;\">\n",
       "      <th></th>\n",
       "      <th>c1</th>\n",
       "      <th>c2</th>\n",
       "      <th>c3</th>\n",
       "      <th>c4</th>\n",
       "    </tr>\n",
       "  </thead>\n",
       "  <tbody>\n",
       "    <tr>\n",
       "      <th>r1</th>\n",
       "      <td>0</td>\n",
       "      <td>1</td>\n",
       "      <td>2</td>\n",
       "      <td>3</td>\n",
       "    </tr>\n",
       "    <tr>\n",
       "      <th>r2</th>\n",
       "      <td>4</td>\n",
       "      <td>5</td>\n",
       "      <td>6</td>\n",
       "      <td>7</td>\n",
       "    </tr>\n",
       "    <tr>\n",
       "      <th>r3</th>\n",
       "      <td>8</td>\n",
       "      <td>9</td>\n",
       "      <td>10</td>\n",
       "      <td>11</td>\n",
       "    </tr>\n",
       "    <tr>\n",
       "      <th>r4</th>\n",
       "      <td>12</td>\n",
       "      <td>13</td>\n",
       "      <td>14</td>\n",
       "      <td>15</td>\n",
       "    </tr>\n",
       "    <tr>\n",
       "      <th>r5</th>\n",
       "      <td>16</td>\n",
       "      <td>17</td>\n",
       "      <td>18</td>\n",
       "      <td>19</td>\n",
       "    </tr>\n",
       "  </tbody>\n",
       "</table>\n",
       "</div>"
      ],
      "text/plain": [
       "    c1  c2  c3  c4\n",
       "r1   0   1   2   3\n",
       "r2   4   5   6   7\n",
       "r3   8   9  10  11\n",
       "r4  12  13  14  15\n",
       "r5  16  17  18  19"
      ]
     },
     "execution_count": 67,
     "metadata": {},
     "output_type": "execute_result"
    }
   ],
   "source": [
    "df.head()"
   ]
  },
  {
   "cell_type": "code",
   "execution_count": 69,
   "id": "174b5854-5ac0-49b9-a4be-a3f2c06c0c4a",
   "metadata": {},
   "outputs": [
    {
     "data": {
      "text/plain": [
       "c1    0\n",
       "c2    1\n",
       "c3    2\n",
       "c4    3\n",
       "Name: r1, dtype: int32"
      ]
     },
     "execution_count": 69,
     "metadata": {},
     "output_type": "execute_result"
    }
   ],
   "source": [
    "df.loc['r1']"
   ]
  },
  {
   "cell_type": "code",
   "execution_count": 71,
   "id": "c03a3975-7b04-458c-b487-a6aa145d1e34",
   "metadata": {},
   "outputs": [
    {
     "data": {
      "text/html": [
       "<div>\n",
       "<style scoped>\n",
       "    .dataframe tbody tr th:only-of-type {\n",
       "        vertical-align: middle;\n",
       "    }\n",
       "\n",
       "    .dataframe tbody tr th {\n",
       "        vertical-align: top;\n",
       "    }\n",
       "\n",
       "    .dataframe thead th {\n",
       "        text-align: right;\n",
       "    }\n",
       "</style>\n",
       "<table border=\"1\" class=\"dataframe\">\n",
       "  <thead>\n",
       "    <tr style=\"text-align: right;\">\n",
       "      <th></th>\n",
       "      <th>c1</th>\n",
       "      <th>c2</th>\n",
       "      <th>c3</th>\n",
       "    </tr>\n",
       "  </thead>\n",
       "  <tbody>\n",
       "    <tr>\n",
       "      <th>r1</th>\n",
       "      <td>0</td>\n",
       "      <td>1</td>\n",
       "      <td>2</td>\n",
       "    </tr>\n",
       "    <tr>\n",
       "      <th>r2</th>\n",
       "      <td>4</td>\n",
       "      <td>5</td>\n",
       "      <td>6</td>\n",
       "    </tr>\n",
       "  </tbody>\n",
       "</table>\n",
       "</div>"
      ],
      "text/plain": [
       "    c1  c2  c3\n",
       "r1   0   1   2\n",
       "r2   4   5   6"
      ]
     },
     "execution_count": 71,
     "metadata": {},
     "output_type": "execute_result"
    }
   ],
   "source": [
    "df.iloc[0:2,0:3]"
   ]
  },
  {
   "cell_type": "code",
   "execution_count": 75,
   "id": "290d1e00-db28-4a93-a877-e5b478047aa2",
   "metadata": {},
   "outputs": [
    {
     "name": "stdout",
     "output_type": "stream",
     "text": [
      "python file handling\n",
      "\n",
      "Based on the provided search results, hereâ€™s a comprehensive answer on Python file handling:\n",
      "\n",
      "\n",
      "\n",
      "To work with files in Python, youâ€™ll primarily use the open() function, which provides various access modes for reading and writing files. Hereâ€™s a breakdown of the essential concepts and code examples:\n",
      "\n",
      "\n",
      "\n",
      "File Access Modes:\n",
      "\n",
      "r - Read mode (default): Opens the file for reading. The file pointer is placed at the beginning of the file.\n",
      "\n",
      "w - Write mode: Opens the file for writing. If the file exists, its contents are truncated. If the file doesnâ€™t exist, itâ€™s created.\n",
      "\n",
      "a - Append mode: Opens the file for appending. The file pointer is placed at the end of the file.\n",
      "\n",
      "x - Exclusive creation mode: Opens the file for writing. If the file already exists, an error occurs. If the file doesnâ€™t exist, itâ€™s created.\n",
      "\n",
      "t - Text mode: Opens the file in text mode. This is the default mode.\n",
      "\n",
      "b - Binary mode: Opens the file in binary mode.\n"
     ]
    }
   ],
   "source": [
    "jabber=open('pythonfilehandaling.txt','r')\n",
    "for line in jabber:\n",
    "    print(line)\n",
    "jabber.close()"
   ]
  },
  {
   "cell_type": "code",
   "execution_count": 85,
   "id": "1e18f6c9-40fb-4457-a933-6ecbd00c34e1",
   "metadata": {},
   "outputs": [
    {
     "name": "stdout",
     "output_type": "stream",
     "text": [
      "harry is a software developer\n",
      "divyanshu is a data analyst\n"
     ]
    }
   ],
   "source": [
    "class Person:\n",
    "    name=\"pawan\"\n",
    "    occupation=\"software developer\"\n",
    "    nertworth=10\n",
    "    def intro(self):\n",
    "        print(f\"{self.name} is a {self.occupation}\")\n",
    "a=Person()\n",
    "a.intro()\n",
    "b=Person()\n",
    "b.name=\"divyanshu\"\n",
    "b.occupation=\"data analyst\"\n",
    "b.intro()"
   ]
  },
  {
   "cell_type": "code",
   "execution_count": 91,
   "id": "22429388-d13d-4103-9fbb-11ab2b5f0dd9",
   "metadata": {},
   "outputs": [
    {
     "name": "stdout",
     "output_type": "stream",
     "text": [
      "anurag is a python developer\n",
      "divyanshu is a developer\n"
     ]
    }
   ],
   "source": [
    "class Person_two:\n",
    "    def __init__(self,name,occ):\n",
    "        self.name=name\n",
    "        self.occ=occ\n",
    "    def info(self):\n",
    "        print(f\"{self.name} is a {self.occ}\")\n",
    "a=Person_two(\"anurag\",\"python developer\")\n",
    "b=Person_two(\"divyanshu\",\"developer\")\n",
    "a.info()\n",
    "b.info()"
   ]
  },
  {
   "cell_type": "markdown",
   "id": "86f65e89-3200-4e97-9f6f-5c105dc7512b",
   "metadata": {
    "scrolled": true
   },
   "source": [
    "*args-> taking input as tuples\n",
    "**kwargs->taking input as dictionaries"
   ]
  },
  {
   "cell_type": "markdown",
   "id": "a351dee1-0e1a-4720-9fea-edc269d9f4ae",
   "metadata": {},
   "source": [
    "DECORATERS"
   ]
  },
  {
   "cell_type": "code",
   "execution_count": 134,
   "id": "29d98512-613d-46fc-81a9-8eaf3c4277af",
   "metadata": {},
   "outputs": [
    {
     "name": "stdout",
     "output_type": "stream",
     "text": [
      "Good morning!\n",
      "Hello bhai!\n",
      "Thanks for using this function!\n",
      "Good morning!\n",
      "3\n",
      "Thanks for using this function!\n"
     ]
    }
   ],
   "source": [
    "def greet(fx):\n",
    "    def wrapper(*args, **kwargs):\n",
    "        print(\"Good morning!\")\n",
    "        fx(*args, **kwargs)\n",
    "        print(\"Thanks for using this function!\")\n",
    "       # return result\n",
    "    return wrapper\n",
    "\n",
    "@greet\n",
    "def hello():\n",
    "    print(\"Hello bhai!\")\n",
    "\n",
    "@greet\n",
    "def add(a, b):\n",
    "    print(a + b)\n",
    "\n",
    "hello()\n",
    "#greet(add)(1,2)\n",
    "add(1,2)"
   ]
  },
  {
   "cell_type": "code",
   "execution_count": 144,
   "id": "e0366b25-00ae-43a1-b801-05d26b13c896",
   "metadata": {},
   "outputs": [
    {
     "name": "stdout",
     "output_type": "stream",
     "text": [
      "67.0\n",
      "value is 6.7\n"
     ]
    }
   ],
   "source": [
    "class Myclass:\n",
    "    def __init__(self,value):\n",
    "        self._value=value\n",
    "    def show(self):\n",
    "        print(f\"value is {self._value}\")\n",
    "    @property\n",
    "    def ten_value(self):\n",
    "        return 10*self._value\n",
    "    @ten_value.setter\n",
    "    def ten_value(self,new_value):\n",
    "        self._value=new_value/10\n",
    "        \n",
    "obj=Myclass(10)\n",
    "obj.ten_value=67\n",
    "print(obj.ten_value)\n",
    "obj.show()"
   ]
  },
  {
   "cell_type": "code",
   "execution_count": 7,
   "id": "d7fd976f-bcdb-42ac-812e-966048175586",
   "metadata": {},
   "outputs": [
    {
     "name": "stdout",
     "output_type": "stream",
     "text": [
      "THE NAME OF EMPLOYEE 400 is ROHAN DAS\n",
      "THE NAME OF EMPLOYEE 4100 is harry\n",
      "THE DEFAULT LANGUAGE IS PYTHON\n"
     ]
    }
   ],
   "source": [
    "class Employee:\n",
    "    def __init__(self,name,id):\n",
    "        self.name=name\n",
    "        self.id=id\n",
    "    def showDetails(self):\n",
    "        print(f\"THE NAME OF EMPLOYEE {self.id} is {self.name}\")\n",
    "class Programmer(Employee):\n",
    "    def showLanguage(self):\n",
    "        print(\"THE DEFAULT LANGUAGE IS PYTHON\")\n",
    "e1=Employee(\"ROHAN DAS\",400)\n",
    "e1.showDetails()\n",
    "e2=Programmer(\"harry\",4100)\n",
    "e2.showDetails()\n",
    "e2.showLanguage()"
   ]
  },
  {
   "cell_type": "code",
   "execution_count": 9,
   "id": "0e9d98b5-d9c0-4da9-b242-56f6524af460",
   "metadata": {},
   "outputs": [
    {
     "name": "stdout",
     "output_type": "stream",
     "text": [
      "harry2\n",
      "['_Employee__name', '__module__', '__init__', '__dict__', '__weakref__', '__doc__', '__new__', '__repr__', '__hash__', '__str__', '__getattribute__', '__setattr__', '__delattr__', '__lt__', '__le__', '__eq__', '__ne__', '__gt__', '__ge__', '__reduce_ex__', '__reduce__', '__getstate__', '__subclasshook__', '__init_subclass__', '__format__', '__sizeof__', '__dir__', '__class__']\n"
     ]
    }
   ],
   "source": [
    "class Employee:\n",
    "    def __init__(self):\n",
    "        self.__name=\"harry2\"\n",
    "a=Employee()\n",
    "print(a._Employee__name)\n",
    "print(a.__dir__())"
   ]
  },
  {
   "cell_type": "markdown",
   "id": "236818c6-977b-48dc-be22-25bc6caaab6a",
   "metadata": {},
   "source": [
    "Static Method in python\n"
   ]
  },
  {
   "cell_type": "code",
   "execution_count": 27,
   "id": "f5ef840e-4f52-4e6a-b4f5-00ff3ec692e9",
   "metadata": {},
   "outputs": [
    {
     "name": "stdout",
     "output_type": "stream",
     "text": [
      "7\n",
      "9\n"
     ]
    }
   ],
   "source": [
    "class Main:\n",
    "    def __init__(self,num):\n",
    "        self.num=num\n",
    "    def addtonum(self,n):\n",
    "        self.num=self.num+ n\n",
    "    @staticmethod\n",
    "    def add(a,b):\n",
    "        return a+b\n",
    "result=Main.add(3,4)\n",
    "print(result)\n",
    "a=Main(3)\n",
    "a.addtonum(6)\n",
    "print(a.num)"
   ]
  }
 ],
 "metadata": {
  "kernelspec": {
   "display_name": "Python 3 (ipykernel)",
   "language": "python",
   "name": "python3"
  },
  "language_info": {
   "codemirror_mode": {
    "name": "ipython",
    "version": 3
   },
   "file_extension": ".py",
   "mimetype": "text/x-python",
   "name": "python",
   "nbconvert_exporter": "python",
   "pygments_lexer": "ipython3",
   "version": "3.12.4"
  }
 },
 "nbformat": 4,
 "nbformat_minor": 5
}
