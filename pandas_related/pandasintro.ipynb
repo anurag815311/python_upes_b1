{
 "cells": [
  {
   "cell_type": "code",
   "execution_count": 3,
   "metadata": {},
   "outputs": [
    {
     "name": "stdout",
     "output_type": "stream",
     "text": [
      "      Name  Age     city\n",
      "0    Alice   25       NY\n",
      "1      Bob   30       LA\n",
      "2  charlie   35  Chicago\n"
     ]
    }
   ],
   "source": [
    "import pandas as pd\n",
    "\n",
    "data={\n",
    "    'Name':['Alice','Bob','charlie'],\n",
    "    'Age':[25,30,35],\n",
    "    'city':['NY','LA','Chicago']\n",
    "            \n",
    "}\n",
    "\n",
    "df=pd.DataFrame(data)\n",
    "print(df)"
   ]
  },
  {
   "cell_type": "code",
   "execution_count": 4,
   "metadata": {},
   "outputs": [
    {
     "name": "stdout",
     "output_type": "stream",
     "text": [
      "0      Alice\n",
      "1        Bob\n",
      "2    charlie\n",
      "Name: Name, dtype: object\n"
     ]
    }
   ],
   "source": [
    "print(df['Name'])"
   ]
  },
  {
   "cell_type": "code",
   "execution_count": 6,
   "metadata": {},
   "outputs": [
    {
     "name": "stdout",
     "output_type": "stream",
     "text": [
      "      Name  Age\n",
      "0    Alice   25\n",
      "1      Bob   30\n",
      "2  charlie   35\n"
     ]
    }
   ],
   "source": [
    "print(df[['Name','Age']])"
   ]
  },
  {
   "cell_type": "code",
   "execution_count": 7,
   "metadata": {},
   "outputs": [
    {
     "name": "stdout",
     "output_type": "stream",
     "text": [
      "Year      2019  2020\n",
      "City                \n",
      "Chicago    150   180\n",
      "New York   200   250\n"
     ]
    }
   ],
   "source": [
    "data2 = {\n",
    "    'City': ['New York', 'New York', 'Chicago', 'Chicago'],\n",
    "    'Year': [2019, 2020, 2019, 2020],\n",
    "    'Sales': [200, 250, 150, 180]\n",
    "}\n",
    "df2 = pd.DataFrame(data2)\n",
    "\n",
    "# Create a pivot table\n",
    "pivot = df2.pivot(index='City', columns='Year', values='Sales')\n",
    "print(pivot)\n"
   ]
  },
  {
   "cell_type": "code",
   "execution_count": 8,
   "metadata": {},
   "outputs": [
    {
     "name": "stdout",
     "output_type": "stream",
     "text": [
      "Year         2019  2020\n",
      "City                   \n",
      "Chicago       NaN   2.7\n",
      "Los Angeles   3.9   NaN\n",
      "New York      8.4   8.3\n"
     ]
    }
   ],
   "source": [
    "data = {\n",
    "    'City': ['New York', 'Los Angeles', 'New York', 'Chicago'],\n",
    "    'Year': [2019, 2019, 2020, 2020],\n",
    "    'Population': [8.4, 3.9, 8.3, 2.7]\n",
    "}\n",
    "df = pd.DataFrame(data)\n",
    "\n",
    "# Create a pivot table with 'Year' as columns\n",
    "pivot = df.pivot_table(values='Population', index='City', columns='Year')\n",
    "print(pivot)"
   ]
  },
  {
   "cell_type": "code",
   "execution_count": 9,
   "metadata": {},
   "outputs": [],
   "source": [
    "fileName=\"test.xlsx\"\n",
    "df.to_excel(fileName)"
   ]
  },
  {
   "cell_type": "code",
   "execution_count": 10,
   "metadata": {},
   "outputs": [
    {
     "name": "stdout",
     "output_type": "stream",
     "text": [
      "      Name Department  Salary\n",
      "2  Charlie         IT   62000\n"
     ]
    }
   ],
   "source": [
    "import pandas as pd\n",
    "\n",
    "data = {\n",
    "    'Name': ['Alice', 'Bob', 'Charlie', 'David'],\n",
    "    'Department': ['IT', 'HR', 'IT', 'Finance'],\n",
    "    'Salary': [50000, 52000, 62000, 58000]\n",
    "}\n",
    "df = pd.DataFrame(data)\n",
    "\n",
    "# Filter employees with Salary > 60000\n",
    "high_salary = df[df['Salary'] > 60000]\n",
    "print(high_salary)"
   ]
  },
  {
   "cell_type": "code",
   "execution_count": null,
   "metadata": {},
   "outputs": [],
   "source": []
  }
 ],
 "metadata": {
  "kernelspec": {
   "display_name": "base",
   "language": "python",
   "name": "python3"
  },
  "language_info": {
   "codemirror_mode": {
    "name": "ipython",
    "version": 3
   },
   "file_extension": ".py",
   "mimetype": "text/x-python",
   "name": "python",
   "nbconvert_exporter": "python",
   "pygments_lexer": "ipython3",
   "version": "3.12.4"
  }
 },
 "nbformat": 4,
 "nbformat_minor": 2
}
