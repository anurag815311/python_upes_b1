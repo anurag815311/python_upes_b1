{
 "cells": [
  {
   "cell_type": "markdown",
   "id": "900e4598",
   "metadata": {},
   "source": [
    " # Class 11-09-2024 :-  (import module)"
   ]
  },
  {
   "cell_type": "markdown",
   "id": "139b1dda",
   "metadata": {},
   "source": [
    "# write a program that take directory address from the user and return a list of file in the directory in that list"
   ]
  },
  {
   "cell_type": "code",
   "execution_count": 1,
   "id": "54127431",
   "metadata": {},
   "outputs": [
    {
     "name": "stdout",
     "output_type": "stream",
     "text": [
      "Current working directory: c:\\Users\\Dell\\OneDrive\\Desktop\\python files\\python_upes_b1\n"
     ]
    }
   ],
   "source": [
    "import os\n",
    "# Get the current working directory\n",
    "cwd = os.getcwd()\n",
    "print(\"Current working directory:\", cwd)"
   ]
  },
  {
   "cell_type": "code",
   "execution_count": 2,
   "id": "51969a8c",
   "metadata": {},
   "outputs": [
    {
     "name": "stdout",
     "output_type": "stream",
     "text": [
      "The directory does not exist. Please provide a valid directory.\n"
     ]
    }
   ],
   "source": [
    "import os\n",
    "\n",
    "def list_files_in_directory():\n",
    "    # Get directory address from the user\n",
    "    directory = input(\"Enter the directory address: \")\n",
    "\n",
    "    try:\n",
    "        # List all files in the directory\n",
    "        files = os.listdir(directory)\n",
    "        # Filter out directories, keeping only files\n",
    "        files_only = [file for file in files if os.path.isfile(os.path.join(directory, file))]\n",
    "\n",
    "        # Return the list of files\n",
    "        if files_only:\n",
    "            print(\"Files in the directory:\")\n",
    "            return files_only\n",
    "        else:\n",
    "            return \"No files found in the directory.\"\n",
    "    \n",
    "    except FileNotFoundError:\n",
    "        return \"The directory does not exist. Please provide a valid directory.\"\n",
    "\n",
    "# Calling the function\n",
    "file_list = list_files_in_directory()\n",
    "print(file_list)\n"
   ]
  },
  {
   "cell_type": "markdown",
   "id": "77b2b92f",
   "metadata": {},
   "source": [
    "## Write a python which take user directory address from the user and organise file into crossponding folder\n",
    " | folder |file types\n",
    "\n",
    " images | jpg png\n",
    "videos  | mp4,mkv\n",
    " music  |mp3 oog\n",
    " documents | text,docs,pdf\n",
    " Misc | other files\n"
   ]
  },
  {
   "cell_type": "code",
   "execution_count": 12,
   "id": "03550d86",
   "metadata": {},
   "outputs": [
    {
     "name": "stdout",
     "output_type": "stream",
     "text": [
      "Enter the directory path to organize: D:\\importOSPython\n",
      "Files in 'D:\\importOSPython' have been organized.\n"
     ]
    }
   ],
   "source": [
    "import os\n",
    "import shutil\n",
    "\n",
    "FILE_CATEGORIES = {\n",
    "    'Images': ['jpg', 'png'],\n",
    "    'Videos': ['mp4', 'mkv'],\n",
    "    'Music': ['mp3', 'oog'],\n",
    "    'Documents': ['txt', 'docx', 'pdf'],\n",
    "    'Misc': []  \n",
    "}\n",
    "\n",
    "def organize_files(directory):\n",
    "    if not os.path.exists(directory):\n",
    "        print(f\"Directory '{directory}' does not exist.\")\n",
    "        return\n",
    "\n",
    "    for category in FILE_CATEGORIES.keys():\n",
    "        folder_path = os.path.join(directory, category)\n",
    "        if not os.path.exists(folder_path):\n",
    "            os.makedirs(folder_path)\n",
    "            \n",
    "    for filename in os.listdir(directory):\n",
    "        file_path = os.path.join(directory, filename)\n",
    "\n",
    "        if os.path.isdir(file_path):\n",
    "            continue\n",
    "\n",
    "        file_ext = filename.split('.')[-1].lower()\n",
    "\n",
    "        moved = False\n",
    "        for category, extensions in FILE_CATEGORIES.items():\n",
    "            if file_ext in extensions:\n",
    "                shutil.move(file_path, os.path.join(directory, category, filename))\n",
    "                moved = True\n",
    "                break\n",
    "\n",
    "        if not moved:\n",
    "            shutil.move(file_path, os.path.join(directory, 'Misc', filename))\n",
    "\n",
    "    print(f\"Files in '{directory}' have been organized.\")\n",
    "\n",
    "# Get the directory address from the user\n",
    "user_directory = input(\"Enter the directory path to organize: \")\n",
    "organize_files(user_directory)\n"
   ]
  },
  {
   "cell_type": "code",
   "execution_count": 17,
   "id": "e3645f49",
   "metadata": {},
   "outputs": [],
   "source": [
    "import os\n",
    "def create_dir():\n",
    "    folder=\"image,cideos,documents, misc, music\".split(\",\")\n",
    "    for  f in folder:\n",
    "        cmd=f\"md{f}\"\n",
    "        os.system(cmd)\n",
    "        \n",
    "create_dir()\n"
   ]
  }
 ],
 "metadata": {
  "kernelspec": {
   "display_name": "Python 3 (ipykernel)",
   "language": "python",
   "name": "python3"
  },
  "language_info": {
   "codemirror_mode": {
    "name": "ipython",
    "version": 3
   },
   "file_extension": ".py",
   "mimetype": "text/x-python",
   "name": "python",
   "nbconvert_exporter": "python",
   "pygments_lexer": "ipython3",
   "version": "3.12.4"
  }
 },
 "nbformat": 4,
 "nbformat_minor": 5
}
